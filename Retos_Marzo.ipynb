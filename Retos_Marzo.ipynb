{
  "nbformat": 4,
  "nbformat_minor": 0,
  "metadata": {
    "colab": {
      "name": "Retos_Marzo.ipynb",
      "provenance": [],
      "authorship_tag": "ABX9TyOLZSzwdLaLi4F29KMyxiSn",
      "include_colab_link": true
    },
    "kernelspec": {
      "name": "python3",
      "display_name": "Python 3"
    }
  },
  "cells": [
    {
      "cell_type": "markdown",
      "metadata": {
        "id": "view-in-github",
        "colab_type": "text"
      },
      "source": [
        "<a href=\"https://colab.research.google.com/github/SharonCamacho/a.retos/blob/main/Retos_Marzo.ipynb\" target=\"_parent\"><img src=\"https://colab.research.google.com/assets/colab-badge.svg\" alt=\"Open In Colab\"/></a>"
      ]
    },
    {
      "cell_type": "markdown",
      "metadata": {
        "id": "OCnP8L3ty1aA"
      },
      "source": [
        "HOla estos son los retos de Marzo"
      ]
    },
    {
      "cell_type": "code",
      "metadata": {
        "id": "aOiL-trIyxWp"
      },
      "source": [
        "print('Hola DSF')"
      ],
      "execution_count": null,
      "outputs": []
    }
  ]
}